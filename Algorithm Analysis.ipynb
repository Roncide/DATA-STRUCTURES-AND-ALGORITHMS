{
 "cells": [
  {
   "cell_type": "markdown",
   "metadata": {},
   "source": [
    "- S24B38/031\n",
    "- B30581"
   ]
  },
  {
   "cell_type": "markdown",
   "metadata": {},
   "source": [
    "#### Definition of Algorithm Analysis\n",
    "Is the process of evaluating an algorithm's performance based on the time taken to complete an assignmet and memory required to give out results also based on the size of the its input."
   ]
  },
  {
   "cell_type": "markdown",
   "metadata": {},
   "source": [
    "#### Time Complexity \n",
    "is the amount of time an algorithm takes for each statement to complete.\n",
    "#### Space Complexity\n",
    "is the amount of time an algorithm reguires to solve a problem."
   ]
  },
  {
   "cell_type": "markdown",
   "metadata": {},
   "source": [
    "##### Correctness \n",
    "is the property of an algorithm producing the accurate output for a given input.\n",
    "##### Termination\n",
    "is the process of ending an algorithm's execution.\n",
    "##### Effectiveness of an Algorithm \n",
    "refers to the ability to consistently produce correct output for a given input, while also being efficient in terms of computational time and memory usage."
   ]
  },
  {
   "cell_type": "markdown",
   "metadata": {},
   "source": [
    "### Algorithm Complexity snd Measurement\n",
    "Algorithm complexity refers to a measure of how many operations an algorithm needs to perform based on the size of its input, essentially indicating how efficient it is.\n",
    "\n",
    " Measurement of complexity usually involves analyzing the algorithm's behavior using mathematical notation like Big-O to describe the relationship between input size and the number of operations required"
   ]
  },
  {
   "cell_type": "markdown",
   "metadata": {},
   "source": [
    "## Categories of Algorithm Complexity\n",
    "\n",
    "Constant Time Complexity - O(1)\n",
    "- The algorithm takes the same amount of time regardless of the input size.\n",
    "- Examples: accessing an array by index, performing a simple arithmetic operation.\n",
    "\n",
    "Logarithmic Time Complexity - O(log n)\n",
    "- The algorithm's running time grows logarithmically with the input size.\n",
    "- Examples: binary search in an array, finding an element in a balanced search tree.\n",
    "\n",
    "Linear Time Complexity - O(n)\n",
    "- The algorithm's running time grows linearly with the input size.\n",
    "- Examples: finding an element in an array, counting the number of elements in an array.\n",
    "\n",
    "Linearithmic Time Complexity - O(n log n)\n",
    "- The algorithm's running time grows linearly with the input size.\n",
    "- Examples: merging two sorted arrays, sorting an array using merge sort.\n",
    "\n",
    "Quadratic Time Complexity - O(n^2)\n",
    "- The algorithm's running time grows quadratically with the input size.\n",
    "- Examples: bubble sort, insertion sort.\n",
    "\n",
    "Exponential Time Complexity - O(2^n)- The algorithm's running time grows exponentially with the input size.\n",
    "- Examples: recursive algorithms\n",
    "\n",
    "Factorial Time Complexity - O(n!)\n",
    "- The algorithm's running time grows factorially with the input size.\n",
    "- Examples: brute-force algorithms \n"
   ]
  },
  {
   "cell_type": "markdown",
   "metadata": {},
   "source": [
    "#### Loooping Structures and Complexity Analysis\n",
    "\n",
    "###### Simple Loops\n",
    "- Linear loops run in O(n) time.\n",
    "- Logarithmic loops run in O(log n ) time.\n",
    "\n",
    "###### Nested Loops\n",
    "- Linear Logarithic nested loops in O(n log n) time\n",
    "- Quadratic nested loops run in O(n*m) time, where n and m are the sizesof the nested loops"
   ]
  },
  {
   "cell_type": "markdown",
   "metadata": {},
   "source": [
    "### Big-O Notation\n",
    "Big-O natation describes the upper bound of the time complexity of an algorithm, providing a worst-case scenario for the growth rate of the algorithm."
   ]
  },
  {
   "cell_type": "markdown",
   "metadata": {},
   "source": [
    "### How to determine Big-O Notation\n",
    "\n",
    "By analyzing the algorithm's loops, recursive calls, and other operations to determine the dominant term that describes thr growth rate\n"
   ]
  },
  {
   "cell_type": "markdown",
   "metadata": {},
   "source": [
    "### Examples \n",
    "- a single loop running n times is O(n)\n",
    "- a nested loop where each loop runs n times in O(n^2)"
   ]
  },
  {
   "cell_type": "markdown",
   "metadata": {},
   "source": [
    "### Algorithm Runtime Efficiency\n",
    "- Best-case; is the minimum time an algorithm takes to complete.\n",
    "- Worst-case; is the maximum time an algorith, takes to complete.\n",
    "- Average-case; is the expected time an algorithm takes to complete, averaged over all possible inputs. "
   ]
  },
  {
   "cell_type": "markdown",
   "metadata": {},
   "source": [
    "#### Comparison of different complexity functions\n",
    "-  O(1) < O(log n) < O(n) < O(n log n) < O(n^2) < O(2^n) < O(n!)\n"
   ]
  }
 ],
 "metadata": {
  "kernelspec": {
   "display_name": "Python 3",
   "language": "python",
   "name": "python3"
  },
  "language_info": {
   "name": "python",
   "version": "3.12.6"
  }
 },
 "nbformat": 4,
 "nbformat_minor": 2
}
