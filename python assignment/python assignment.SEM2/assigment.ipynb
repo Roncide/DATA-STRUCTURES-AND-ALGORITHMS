{
 "cells": [
  {
   "cell_type": "markdown",
   "metadata": {},
   "source": [
    "MUGISHA AARON KAGYA S24B38/031 B30581"
   ]
  },
  {
   "cell_type": "markdown",
   "metadata": {},
   "source": [
    "1.VARIABLES AND DATA TYPES"
   ]
  },
  {
   "cell_type": "markdown",
   "metadata": {},
   "source": [
    "A Python Variable is a name given to a value and also python  variables are used to store and manipulate data while programming.\n",
    "\n",
    "These varibles have data types which include;\n",
    "\n",
    "Strings: strings are squences of character closed in either single or double quotes e.g 'Hi' or \"Hi\"\n",
    "\n",
    "Boolean: is a type of a variable that has a logical value that is True or False.\n",
    "\n",
    "Integer: is a type of a variable that is  a Whole number e.g (1,2,3,10,12,...etc)\n",
    "\n",
    "Float: is a type of a variable that has decimal places e.g (0.1, 0.5,1.43,...etc)\n",
    "\n",
    "Dictionary: is a type of variable that is an unordered collection of key-values pairs.\n",
    "\n",
    "List: is a type of a variable that is an ordered collection of items that can be any data type.\n",
    "\n",
    "Tuple:is a type of a variable that is an ordered, immutable collection of items that can be of any data type."
   ]
  },
  {
   "cell_type": "code",
   "execution_count": 21,
   "metadata": {},
   "outputs": [
    {
     "name": "stdout",
     "output_type": "stream",
     "text": [
      "6\n",
      "<class 'int'>\n"
     ]
    }
   ],
   "source": [
    "#assigning values to variables \n",
    "# we use the '=' operation sign i.e \n",
    "X=5\n",
    "# this means that wherever in code x is equal to 5 \n",
    "# so if I run code Saying x+1, The answer should be 6, therefore \n",
    "answer = X + 1\n",
    "print(answer)\n",
    "# checking for data type \n",
    "print(type(answer))\n",
    "\n"
   ]
  },
  {
   "cell_type": "markdown",
   "metadata": {},
   "source": [
    "2.CONTROL FLOW \n",
    " \n",
    " Use of if, elif and else:\n",
    " \n",
    " All three are used when there is more than two conditions to be checked before running code, lets say, code to tell whether it is cold, hot or moderate.\n",
    "\n",
    " When there only two conditions then if and else are used."
   ]
  },
  {
   "cell_type": "code",
   "execution_count": 4,
   "metadata": {},
   "outputs": [
    {
     "name": "stdout",
     "output_type": "stream",
     "text": [
      "it is positive\n"
     ]
    }
   ],
   "source": [
    "#Example to determine whether a number is positive, negative or zero\n",
    "# here we have the number as 3 but there is another way where the user inputs the number\n",
    "num= 3\n",
    "#then the conditions to be followed\n",
    "if num > 0:\n",
    "    print(\"it is positive\")\n",
    "elif num < 0:\n",
    "    print(\"it is negative\") \n",
    "else:\n",
    "    print(\"it is zero\")\n",
    "\n",
    "#so you can keep changing the num to check for other numbers"
   ]
  },
  {
   "cell_type": "markdown",
   "metadata": {},
   "source": [
    "SIMILARITIES\n",
    "\n",
    "Both for and while loops are used for repetitive execution of a block of code.\n",
    "\n",
    "Both loops can be used to repeat a task a certain number of times.\n",
    "\n",
    "Both loops can be controlled using conditional statements to determine when to exit the loop.\n",
    "\n",
    "DIFFERENCES\n",
    "\n",
    "In a for loop, the initialization is done by the loop itself, whereas in a while loop, the initialization must be done before the loop starts.\n",
    "\n",
    "In a for loop, the condition is automatic and is determined by the sequence being iterated over. In a while loop, the condition must be manually stated and is typically a boolean expression.\n",
    "\n",
    "In a for loop, the increment/decrement is implicit and is determined by the sequence being iterated over while in a while loop, the increment/decrement must be explicitly stated and is typically done using an assignment statement.\n",
    "\n",
    "For loops are often more readable than while loops because they clearly indicate the sequence being iterated over and the variable being used to store the current value.\n",
    "\n",
    "\n"
   ]
  },
  {
   "cell_type": "code",
   "execution_count": 14,
   "metadata": {},
   "outputs": [
    {
     "name": "stdout",
     "output_type": "stream",
     "text": [
      "1 2 3 4 5 6 7 8 9 10 "
     ]
    }
   ],
   "source": [
    "#Examples of For Loop \n",
    "#printing numbers 1 to 10 \n",
    "for i in range(1,11):\n",
    "    print(i,end=' ')"
   ]
  },
  {
   "cell_type": "code",
   "execution_count": 15,
   "metadata": {},
   "outputs": [
    {
     "name": "stdout",
     "output_type": "stream",
     "text": [
      "1 2 3 4 5 6 7 8 9 10 "
     ]
    }
   ],
   "source": [
    "#Using while loop to perform the same task above\n",
    "i = 1\n",
    "while i <=10:\n",
    "    print(i,end=' ')\n",
    "    i += 1 "
   ]
  },
  {
   "cell_type": "markdown",
   "metadata": {},
   "source": [
    "4.LOOP CONTROL AND STATEMENTS\n",
    "\n",
    "A break statement is exits a loop prematurely.\n",
    "\n",
    "A continue statement skips the current iteration of a loop and moves on to the next iteration.\n",
    "\n",
    "A pass statement is a placeholder statement that does nothing."
   ]
  },
  {
   "cell_type": "code",
   "execution_count": 16,
   "metadata": {},
   "outputs": [
    {
     "name": "stdout",
     "output_type": "stream",
     "text": [
      "1 2 3 4 5 6 7 8 "
     ]
    }
   ],
   "source": [
    "#HOW TO USE A break STATEMENT IN for LOOP\n",
    "for i in range(1,11):\n",
    "    if i == 9:\n",
    "        break\n",
    "    print(i,end=' ')\n",
    "#so initially without the condition  of i ==9 and break statement, the code would print from 1 to 10.    \n"
   ]
  },
  {
   "cell_type": "code",
   "execution_count": 17,
   "metadata": {},
   "outputs": [
    {
     "name": "stdout",
     "output_type": "stream",
     "text": [
      "1 2 3 4 5 6 7 9 10 "
     ]
    }
   ],
   "source": [
    "# HOW TO USE THE continue STATEMENT IN  for LOOP\n",
    "for i in range(1,11):\n",
    "    if i == 8:\n",
    "        continue\n",
    "    print(i,end=' ')\n",
    "#SO THE CODE WILL PRINT 1 TO 10 WITHOUT No.8 ON THE LIST    \n"
   ]
  },
  {
   "cell_type": "code",
   "execution_count": 20,
   "metadata": {},
   "outputs": [
    {
     "name": "stdout",
     "output_type": "stream",
     "text": [
      "I am on fire\n"
     ]
    }
   ],
   "source": [
    "#HOW TO USE THE pass STATEMENT IN for LOOP\n",
    "# A pass statement is  used when a statement is syntactically required but no execution of code is necessary.\n",
    "\n",
    "if True:\n",
    "    pass\n",
    "print(\"I am on fire\")"
   ]
  },
  {
   "cell_type": "markdown",
   "metadata": {},
   "source": [
    "SECTION 2 : Python Functions"
   ]
  },
  {
   "cell_type": "markdown",
   "metadata": {},
   "source": [
    "1.Function Basics.\n",
    "\n",
    "To define a function in Python, use the 'def' keyword followed by the name of the function and a list of parameters in brackets (parentheses). The code that makes up the function is indented under the function definition.ie \n",
    "\n",
    "def function_name(parameter):\n",
    "        \n",
    "        function code\n",
    "\n",
    "To call a function in Python, simply type the name of the function follewed by the arguments in bracket.ie\n",
    "\n",
    "function_name(arguments)\n",
    "\n"
   ]
  },
  {
   "cell_type": "code",
   "execution_count": 2,
   "metadata": {},
   "outputs": [
    {
     "name": "stdout",
     "output_type": "stream",
     "text": [
      "8\n"
     ]
    }
   ],
   "source": [
    "#HOW TO WRITE A Python Function TO ADD TWO NUMBERS \n",
    "#so start by defining the function\n",
    "def add(X,Y):\n",
    "    return X+Y\n",
    "#here the input or argument is 6 and 2 \n",
    "sum = add(6,2) \n",
    "print(sum)"
   ]
  },
  {
   "cell_type": "markdown",
   "metadata": {},
   "source": [
    "Default arguments are values that are assigned to a parameter in a function definition. They are used when the function is called without providing a value for that parameter.ie.\n",
    "\n",
    "def function_name(parameter1, parameter2 = default_value):\n",
    "        \n",
    "        function code"
   ]
  },
  {
   "cell_type": "code",
   "execution_count": 8,
   "metadata": {},
   "outputs": [
    {
     "name": "stdout",
     "output_type": "stream",
     "text": [
      "Hello, Aaron\n"
     ]
    }
   ],
   "source": [
    "#how it is used \n",
    "def greet(name, message = \"Hello\"):\n",
    "    print(message + \", \" + name)\n",
    "#then call the function out\n",
    "greet(\"Aaron\")"
   ]
  },
  {
   "cell_type": "markdown",
   "metadata": {},
   "source": [
    "Keyword arguments are values that are passed to a function using the parameter name followed by an equals sign and the value.ie.\n",
    "\n",
    "def function_name(parameter1, parameter2):\n",
    "        \n",
    "        function code\n",
    "So then while calling the function, you write \n",
    "\n",
    "function_name(parameter1 = \"value1\" , parameter2 = \"value2\")\n",
    "\n",
    "then run it"
   ]
  },
  {
   "cell_type": "code",
   "execution_count": 10,
   "metadata": {},
   "outputs": [
    {
     "name": "stdout",
     "output_type": "stream",
     "text": [
      "Hello, Aaron\n"
     ]
    }
   ],
   "source": [
    "#FOR EXAMPLE\n",
    "def greet(name, message):\n",
    "    print(message + \", \" + name)\n",
    "\n",
    "greet(name = \"Aaron\", message = \"Hello\")"
   ]
  },
  {
   "cell_type": "markdown",
   "metadata": {},
   "source": [
    "3.LAMBDA FUNTION\n",
    "A lambda function is a small, anonymous function that can be defined inline within a larger expression.\n",
    "\n",
    "A lambda function is used to define small and one time use functions in python within a large expression.\n",
    "\n"
   ]
  },
  {
   "cell_type": "code",
   "execution_count": 15,
   "metadata": {},
   "outputs": [
    {
     "ename": "SyntaxError",
     "evalue": "invalid syntax (385954443.py, line 2)",
     "output_type": "error",
     "traceback": [
      "\u001b[1;36m  Cell \u001b[1;32mIn[15], line 2\u001b[1;36m\u001b[0m\n\u001b[1;33m    (key=lambda x: x[1])\u001b[0m\n\u001b[1;37m        ^\u001b[0m\n\u001b[1;31mSyntaxError\u001b[0m\u001b[1;31m:\u001b[0m invalid syntax\n"
     ]
    }
   ],
   "source": [
    "#How to Write a lambda function to sort a list of tuples by the second element.\n",
    "sort(key=lambda x: x[1]): "
   ]
  },
  {
   "cell_type": "markdown",
   "metadata": {},
   "source": [
    "4.SCOPE OF VARIABLES\n",
    "\n",
    "Local variables are defined within a function and are only accessible within that function."
   ]
  },
  {
   "cell_type": "code",
   "execution_count": 16,
   "metadata": {},
   "outputs": [
    {
     "name": "stdout",
     "output_type": "stream",
     "text": [
      "Inner function: local_variable = 10\n",
      "Outer function: local_variable = 10\n"
     ]
    }
   ],
   "source": [
    "#Example of a Local Variable \n",
    "def outer_function():\n",
    "    local_variable = 10  # here is the Local variable\n",
    "\n",
    "    def inner_function():\n",
    "        print(\"Inner function: local_variable =\", local_variable)\n",
    "\n",
    "    inner_function()\n",
    "    print(\"Outer function: local_variable =\", local_variable)\n",
    "\n",
    "outer_function()\n",
    "# So local_variable is a local variable defined in outer_function. \n",
    "# It is accessible in both outer_function and inner_function.\n"
   ]
  },
  {
   "cell_type": "markdown",
   "metadata": {},
   "source": [
    "Global variables are defined outside of any function and are accessible from any part of the program."
   ]
  },
  {
   "cell_type": "code",
   "execution_count": 17,
   "metadata": {},
   "outputs": [
    {
     "name": "stdout",
     "output_type": "stream",
     "text": [
      "Outer function: global_variable = 20\n",
      "Inner function: global_variable = 20\n"
     ]
    }
   ],
   "source": [
    "#Example of a Global variable\n",
    "global_variable = 20  # right here is Global variable\n",
    "\n",
    "def outer_function():\n",
    "    print(\"Outer function: global_variable =\", global_variable)\n",
    "\n",
    "    def inner_function():\n",
    "        print(\"Inner function: global_variable =\", global_variable)\n",
    "\n",
    "    inner_function()\n",
    "\n",
    "outer_function()\n",
    "# So global_variable is a global variable defined outside of any function.\n",
    "# It is accessible in both outer_function and inner_function.\n",
    "\n"
   ]
  },
  {
   "cell_type": "markdown",
   "metadata": {},
   "source": [
    "Nonlocal variables are variables defined in an outer function that are accessed by an inner function."
   ]
  },
  {
   "cell_type": "code",
   "execution_count": 18,
   "metadata": {},
   "outputs": [
    {
     "name": "stdout",
     "output_type": "stream",
     "text": [
      "Inner function: nonlocal_variable = 40\n",
      "Outer function: nonlocal_variable = 40\n"
     ]
    }
   ],
   "source": [
    "#Example of a NonLocal varaible\n",
    "def outer_function():\n",
    "    nonlocal_variable = 30  # here is the Nonlocal variable\n",
    "\n",
    "    def inner_function():\n",
    "        nonlocal nonlocal_variable  # here declare nonlocal variable\n",
    "        nonlocal_variable = 40\n",
    "        print(\"Inner function: nonlocal_variable =\", nonlocal_variable)\n",
    "\n",
    "    inner_function()\n",
    "    print(\"Outer function: nonlocal_variable =\", nonlocal_variable)\n",
    "\n",
    "outer_function()\n",
    " \n",
    "# so a nonlocal_variable is a nonlocal variable defined in outer_function. \n",
    "#It is accessed and modified by inner_function using the nonlocal keyword"
   ]
  },
  {
   "cell_type": "markdown",
   "metadata": {},
   "source": [
    "SECTION 4. PYTHON DATA STRUCTURES."
   ]
  },
  {
   "cell_type": "markdown",
   "metadata": {},
   "source": [
    "LISTS.\n",
    "\n",
    "A list in python is a collection of item of any data type and its denote by square brackets i.e []. They can also be modified a ceation which is termed as being mutable. e.g \n",
    "\n",
    "fruits = [bananas, apples, mangoes]\n",
    "\n",
    "Slicing a list allows you to extract a subset of elements from the list. e.g\n",
    "\n"
   ]
  },
  {
   "cell_type": "code",
   "execution_count": 20,
   "metadata": {},
   "outputs": [
    {
     "name": "stdout",
     "output_type": "stream",
     "text": [
      "[3, 4, 5]\n"
     ]
    }
   ],
   "source": [
    "# EXAMPLE ON HOW TO SLICE A list\n",
    "# Create a list\n",
    "num= [1, 2, 3, 4, 5, 6, 7, 8, 9]\n",
    "\n",
    "# Slice the list from index 2 to 5\n",
    "print(num[2:5])"
   ]
  },
  {
   "cell_type": "code",
   "execution_count": 29,
   "metadata": {},
   "outputs": [
    {
     "name": "stdout",
     "output_type": "stream",
     "text": [
      "list 1: [1, 2, 3, 4]\n",
      "list 2:[1, 2, 3, 4, 5, 6]\n",
      "list 3:[1, 4, 2, 3]\n"
     ]
    }
   ],
   "source": [
    "#Adding Element in a List\n",
    "# The results for the codes, im to put them last, trace them but the list number given \n",
    "#USING append() Method\n",
    "\n",
    "#The append() method adds a single element to the end of the list.\n",
    "\n",
    "\n",
    "my_list1 = [1, 2, 3]\n",
    "my_list1.append(4)\n",
    "print(f\"list 1: {my_list1}\")\n",
    "\n",
    "#USING extend() Method\n",
    "#The extend() method adds multiple elements to the end of the list.\n",
    "\n",
    "my_list2 = [1, 2, 3]\n",
    "my_list2.extend([4, 5, 6])\n",
    "print(f\"list 2:{my_list2}\")\n",
    "\n",
    "\n",
    "# USING insert() Method\n",
    "#The insert() method adds an element at a specified position in the list.\n",
    "\n",
    "\n",
    "my_list3 = [1, 2, 3]\n",
    "my_list3.insert(1, 4)\n",
    "print(f\"list 3:{my_list3}\")\n",
    "\n",
    "\n"
   ]
  },
  {
   "cell_type": "code",
   "execution_count": 34,
   "metadata": {},
   "outputs": [
    {
     "name": "stdout",
     "output_type": "stream",
     "text": [
      "list 1: [1, 2, 3, 4]\n",
      "list 2 when not specified: 4\n",
      "list 2 when not specified: [1, 2, 3]\n",
      "list 2 when specified: 2\n",
      "list 2 when specified: [1, 3]\n",
      "list 3: []\n"
     ]
    }
   ],
   "source": [
    "# Removing Elements also has several methods \n",
    "# ALSO THE RESULTS OF THIS CODES BELOW CAN BE SEEN AT THE BUTTOM BY USING LIST NUMBERING\n",
    "\n",
    "#USING remove() Method\n",
    "\n",
    "#The remove() method removes the first occurrence of a specified element from the list.\n",
    "\n",
    "\n",
    "my_list1 = [1, 2, 3, 4, 4]\n",
    "my_list1.remove(4)\n",
    "print(f\"list 1: {my_list1}\")\n",
    "\n",
    "\n",
    "#USING the pop() Method\n",
    "\n",
    "#The pop() method removes and returns an element at a specified position in the list. \n",
    "#If no position is specified, it removes and returns the last element.\n",
    "\n",
    "\n",
    "my_list2 = [1, 2, 3, 4]\n",
    "print(f\"list 2 when not specified: {my_list2.pop()}\")\n",
    "print(f\"list 2 when not specified: {my_list2}\")\n",
    "\n",
    "print(f\"list 2 when specified: {my_list2.pop(1)}\")\n",
    "print(f\"list 2 when specified: {my_list2}\")\n",
    "\n",
    "\n",
    "#USING THE clear() Method\n",
    "\n",
    "#The clear() method removes all elements from the list.\n",
    "\n",
    "my_list3 = [1, 2, 3, 4]\n",
    "my_list3.clear()\n",
    "print(f\"list 3: {my_list3}\")"
   ]
  },
  {
   "cell_type": "markdown",
   "metadata": {},
   "source": [
    "2.DICTIONARY\n",
    "\n",
    "A dictionary in Python is an unordered collection of key-value pairs. It is a mutable data type that stores mappings of unique keys to values. Dictionaries are also known as associative arrays, hash tables, or maps.\n"
   ]
  },
  {
   "cell_type": "code",
   "execution_count": 44,
   "metadata": {},
   "outputs": [],
   "source": [
    "# Create a dictionary using the {} syntax\n",
    "person = {\"name\": \"Aaron\", \"age\": 30, \"city\": \"Mukono\"}\n",
    "\n",
    "# Create a dictionary using the dict() constructor\n",
    "person = dict(name=\"Aaron\", age=30, city=\"Mukono\")"
   ]
  },
  {
   "cell_type": "markdown",
   "metadata": {},
   "source": [
    "HOW TO WORK WITH KEY-VALUES \n",
    "\n",
    "The sytanx used is []\n"
   ]
  },
  {
   "cell_type": "code",
   "execution_count": 36,
   "metadata": {},
   "outputs": [
    {
     "name": "stdout",
     "output_type": "stream",
     "text": [
      "Aaron\n"
     ]
    }
   ],
   "source": [
    "#Accessing Values\n",
    "person = {\"name\": \"Aaron\", \"age\": 30, \"city\": \"Mukono\"}\n",
    "print(person[\"name\"])"
   ]
  },
  {
   "cell_type": "code",
   "execution_count": 38,
   "metadata": {},
   "outputs": [
    {
     "name": "stdout",
     "output_type": "stream",
     "text": [
      "31\n"
     ]
    }
   ],
   "source": [
    "#Modifying Values\n",
    "#here we are updating the information or modifying it\n",
    "person = {\"name\": \"Aaron\", \"age\": 30, \"city\": \"Mukono\"}\n",
    "person[\"age\"] = 31\n",
    "print(person[\"age\"])"
   ]
  },
  {
   "cell_type": "code",
   "execution_count": 39,
   "metadata": {},
   "outputs": [
    {
     "name": "stdout",
     "output_type": "stream",
     "text": [
      "{'name': 'Aaron', 'age': 30, 'city': 'Mukono', 'country': 'Uganda'}\n"
     ]
    }
   ],
   "source": [
    "#Adding New Key-Value Pairs\n",
    "\n",
    "person = {\"name\": \"Aaron\", \"age\": 30, \"city\": \"Mukono\"}\n",
    "person[\"country\"] = \"Uganda\"\n",
    "print(person)\n"
   ]
  },
  {
   "cell_type": "code",
   "execution_count": 40,
   "metadata": {},
   "outputs": [
    {
     "name": "stdout",
     "output_type": "stream",
     "text": [
      "{'name': 'Aaron', 'city': 'Mukono'}\n"
     ]
    }
   ],
   "source": [
    "#Removing Key-Value Pairs\n",
    "\n",
    "#You can remove key-value pairs from a dictionary using the del statement or the pop() method.\n",
    "\n",
    "#Using del statement\n",
    "\n",
    "person = {\"name\": \"Aaron\", \"age\": 30, \"city\": \"Mukono\"}\n",
    "del person[\"age\"]\n",
    "print(person)"
   ]
  },
  {
   "cell_type": "code",
   "execution_count": 41,
   "metadata": {},
   "outputs": [
    {
     "name": "stdout",
     "output_type": "stream",
     "text": [
      "{'name': 'Aaron', 'city': 'Mukono'}\n"
     ]
    }
   ],
   "source": [
    "# Using pop() method \n",
    "\n",
    "person = {\"name\": \"Aaron\", \"age\": 30, \"city\": \"Mukono\"}\n",
    "person.pop(\"age\")\n",
    "print(person)"
   ]
  },
  {
   "cell_type": "markdown",
   "metadata": {},
   "source": [
    "Using keys(), values(), and items()"
   ]
  },
  {
   "cell_type": "code",
   "execution_count": 42,
   "metadata": {},
   "outputs": [
    {
     "name": "stdout",
     "output_type": "stream",
     "text": [
      "dict_keys(['name', 'age', 'city'])\n"
     ]
    }
   ],
   "source": [
    "#Using keys()\n",
    "\n",
    "#The keys() method returns a dictionary view that displays the keys in a dictionary.\n",
    "\n",
    "person = {\"name\": \"Aaron\", \"age\": 30, \"city\": \"Mukono\"}\n",
    "print(person.keys())"
   ]
  },
  {
   "cell_type": "code",
   "execution_count": 43,
   "metadata": {},
   "outputs": [
    {
     "name": "stdout",
     "output_type": "stream",
     "text": [
      "dict_values(['Aaron', 30, 'Mukono'])\n"
     ]
    }
   ],
   "source": [
    "#Using values()\n",
    "#The values() method returns a view that displays the values in a dictionary.\n",
    "\n",
    "person = {\"name\": \"Aaron\", \"age\": 30, \"city\": \"Mukono\"}\n",
    "print(person.values())"
   ]
  },
  {
   "cell_type": "code",
   "execution_count": 45,
   "metadata": {},
   "outputs": [
    {
     "name": "stdout",
     "output_type": "stream",
     "text": [
      "dict_items([('name', 'Aaron'), ('age', 30), ('city', 'Mukono')])\n"
     ]
    }
   ],
   "source": [
    "#Using items()\n",
    "#The items() method displays the key-value pairs in a dictionary.\n",
    "\n",
    "person = {\"name\": \"Aaron\", \"age\": 30, \"city\": \"Mukono\"}\n",
    "print(person.items())"
   ]
  },
  {
   "cell_type": "markdown",
   "metadata": {},
   "source": [
    "3.SETS\n",
    "\n",
    "A set in Python is an unordered collection of unique items.\n",
    "\n",
    "Sets are used to store multiple items in a single variable. \n",
    "\n",
    "They are mutable, meaning they can be modified after creation.\n",
    "\n",
    "You can create a set in Python using the set() function or the {} syntax.\n"
   ]
  },
  {
   "cell_type": "code",
   "execution_count": 46,
   "metadata": {},
   "outputs": [],
   "source": [
    "# Create a set using the set() function\n",
    "my_set = set([1, 2, 3, 4, 5])\n",
    "\n",
    "# Create a set using the {} syntax\n",
    "my_set = {1, 2, 3, 4, 5}\n"
   ]
  },
  {
   "cell_type": "markdown",
   "metadata": {},
   "source": [
    "COMMON SET OPERATIONS \n",
    "\n",
    "Union, Intersection and Difference.\n"
   ]
  },
  {
   "cell_type": "code",
   "execution_count": 47,
   "metadata": {},
   "outputs": [
    {
     "name": "stdout",
     "output_type": "stream",
     "text": [
      "{1, 2, 3, 4, 5}\n"
     ]
    }
   ],
   "source": [
    "#Staring with the Union\n",
    "#The union of two sets is a set containing all elements from both sets.\n",
    "set1 = {1, 2, 3}\n",
    "set2 = {3, 4, 5}\n",
    "\n",
    "# Calculate the union of set1 and set2\n",
    "union_set = set1.union(set2)\n",
    "print(union_set)"
   ]
  },
  {
   "cell_type": "code",
   "execution_count": 48,
   "metadata": {},
   "outputs": [
    {
     "name": "stdout",
     "output_type": "stream",
     "text": [
      "{1, 2, 3, 4, 5}\n"
     ]
    }
   ],
   "source": [
    "# Alternatively, you can use the \" | \" operator\n",
    "union_set = set1 | set2\n",
    "print(union_set)"
   ]
  },
  {
   "cell_type": "code",
   "execution_count": 49,
   "metadata": {},
   "outputs": [
    {
     "name": "stdout",
     "output_type": "stream",
     "text": [
      "{3}\n"
     ]
    }
   ],
   "source": [
    "#The intersection of two sets is a set containing all elements that are common to both sets.\n",
    "set1 = {1, 2, 3}\n",
    "set2 = {3, 4, 5}\n",
    "# Calculate the intersection of set1 and set2\n",
    "intersection_set = set1.intersection(set2)\n",
    "print(intersection_set)"
   ]
  },
  {
   "cell_type": "code",
   "execution_count": 50,
   "metadata": {},
   "outputs": [
    {
     "name": "stdout",
     "output_type": "stream",
     "text": [
      "{3}\n"
     ]
    }
   ],
   "source": [
    "# Alternatively, you can use the \" & \" operator\n",
    "intersection_set = set1 & set2\n",
    "print(intersection_set)"
   ]
  },
  {
   "cell_type": "code",
   "execution_count": 52,
   "metadata": {},
   "outputs": [
    {
     "name": "stdout",
     "output_type": "stream",
     "text": [
      "{1, 2}\n"
     ]
    }
   ],
   "source": [
    "#The difference of two sets is a set containing all elements that are in the first set but not in the second set.\n",
    "\n",
    "set1 = {1, 2, 3}\n",
    "set2 = {3, 4, 5}\n",
    "\n",
    "# Calculate the difference of set1 and set2\n",
    "difference_set = set1.difference(set2)\n",
    "print(difference_set)"
   ]
  },
  {
   "cell_type": "code",
   "execution_count": 51,
   "metadata": {},
   "outputs": [
    {
     "name": "stdout",
     "output_type": "stream",
     "text": [
      "{1, 2}\n"
     ]
    }
   ],
   "source": [
    "# Alternatively, you can use the \" - \" operator\n",
    "difference_set = set1 - set2\n",
    "print(difference_set)"
   ]
  },
  {
   "cell_type": "markdown",
   "metadata": {},
   "source": [
    "4.TUBLEs\n",
    "\n",
    "Characteristics of Tuples\n",
    "\n",
    "Immutability; meaning that once a tuple is created, its contents cannot be modified.\n",
    "\n",
    "They are ordered; meaning that the order of the elements in the tuple matters.\n",
    "\n",
    "They are indexed; meaning that each element in the tuple can be accessed using its index."
   ]
  },
  {
   "cell_type": "code",
   "execution_count": 54,
   "metadata": {},
   "outputs": [
    {
     "name": "stdout",
     "output_type": "stream",
     "text": [
      "(1, 2, 3, 4, 5)\n"
     ]
    }
   ],
   "source": [
    "#Tuble creation\n",
    "my_tuple = tuple([1, 2, 3, 4, 5])\n",
    "print(my_tuple) "
   ]
  },
  {
   "cell_type": "code",
   "execution_count": 55,
   "metadata": {},
   "outputs": [
    {
     "name": "stdout",
     "output_type": "stream",
     "text": [
      "1\n",
      "5\n"
     ]
    }
   ],
   "source": [
    "#Indexing Tuples\n",
    "#Accessing  elements in a tuple using their index.\n",
    "\n",
    "my_tuple = (1, 2, 3, 4, 5)\n",
    "print(my_tuple[0]) \n",
    "print(my_tuple[-1])\n"
   ]
  },
  {
   "cell_type": "code",
   "execution_count": 56,
   "metadata": {},
   "outputs": [
    {
     "name": "stdout",
     "output_type": "stream",
     "text": [
      "1\n",
      "2\n",
      "3\n",
      "4\n",
      "5\n"
     ]
    }
   ],
   "source": [
    "# Unpacking Tuples\n",
    "# Unpacking a tuple into separate variables\n",
    "\n",
    "my_tuple = (1, 2, 3, 4, 5)\n",
    "a, b, c, d, e = my_tuple\n",
    "print(a) \n",
    "print(b)\n",
    "print(c) \n",
    "print(d) \n",
    "print(e) \n"
   ]
  },
  {
   "cell_type": "markdown",
   "metadata": {},
   "source": [
    "5.STRINGS\n",
    "\n",
    "In Python, strings are sequences of characters enclosed in quotes (single, double, or triple).\n",
    "\n",
    "They can contain letters, digits, symbols, and whitespace.\n"
   ]
  },
  {
   "cell_type": "code",
   "execution_count": 57,
   "metadata": {},
   "outputs": [
    {
     "name": "stdout",
     "output_type": "stream",
     "text": [
      "H\n",
      "!\n",
      "Hello\n",
      "World!\n"
     ]
    }
   ],
   "source": [
    "#String Indexing and Slicing\n",
    "#Strings can be indexed and sliced using square brackets []. Indexing starts at 0.\n",
    "\n",
    "my_string = \"Hello, World!\"\n",
    "\n",
    "# Indexing\n",
    "print(my_string[0])  \n",
    "print(my_string[-1])\n",
    "\n",
    "# Slicing\n",
    "print(my_string[0:5])\n",
    "print(my_string[7:]) \n"
   ]
  },
  {
   "cell_type": "code",
   "execution_count": 58,
   "metadata": {},
   "outputs": [
    {
     "name": "stdout",
     "output_type": "stream",
     "text": [
      "['apple', 'banana', 'cherry']\n"
     ]
    }
   ],
   "source": [
    "#The split() method splits a string into a list of substrings based on a specified separator.\n",
    "\n",
    "my_string = \"apple,banana,cherry\"\n",
    "fruits = my_string.split(\",\")\n",
    "print(fruits)"
   ]
  },
  {
   "cell_type": "code",
   "execution_count": 59,
   "metadata": {},
   "outputs": [
    {
     "name": "stdout",
     "output_type": "stream",
     "text": [
      "apple,banana,cherry\n"
     ]
    }
   ],
   "source": [
    "#The join() method concatenates a list of strings into a single string, using a specified separator.\n",
    "\n",
    "fruits = [\"apple\", \"banana\", \"cherry\"]\n",
    "my_string = \",\".join(fruits)\n",
    "print(my_string)"
   ]
  },
  {
   "cell_type": "code",
   "execution_count": 60,
   "metadata": {},
   "outputs": [
    {
     "name": "stdout",
     "output_type": "stream",
     "text": [
      "Hello, Universe!\n"
     ]
    }
   ],
   "source": [
    "#The replace() method replaces occurrences of a substring with another substring.\n",
    "\n",
    "my_string = \"Hello, World!\"\n",
    "new_string = my_string.replace(\"World\", \"Universe\")\n",
    "print(new_string)"
   ]
  },
  {
   "cell_type": "code",
   "execution_count": 62,
   "metadata": {},
   "outputs": [
    {
     "name": "stdout",
     "output_type": "stream",
     "text": [
      "Hello, John! You are 88 years old.\n"
     ]
    }
   ],
   "source": [
    "#String Formatting\n",
    "\n",
    "# USING 1.f-strings\n",
    "\n",
    "name = \"John\"\n",
    "age = 88\n",
    "greeting = f\"Hello, {name}! You are {age} years old.\"\n",
    "print(greeting)"
   ]
  },
  {
   "cell_type": "code",
   "execution_count": 63,
   "metadata": {},
   "outputs": [
    {
     "name": "stdout",
     "output_type": "stream",
     "text": [
      "Hello, John! You are 88 years old.\n"
     ]
    }
   ],
   "source": [
    "# USING str.format()\n",
    "\n",
    "#The str.format() method formats a string using placeholders.\n",
    "name = \"John\"\n",
    "age = 88\n",
    "greeting = \"Hello, {}! You are {} years old.\".format(name, age)\n",
    "print(greeting)"
   ]
  },
  {
   "cell_type": "code",
   "execution_count": 64,
   "metadata": {},
   "outputs": [
    {
     "name": "stdout",
     "output_type": "stream",
     "text": [
      "HELLO, WORLD!\n",
      "hello, world!\n"
     ]
    }
   ],
   "source": [
    "#String Manipulation\n",
    "\n",
    "# USING upper() and lower()\n",
    "\n",
    "#The upper() and lower() methods convert a string to uppercase and lowercase, respectively.\n",
    "my_string = \"Hello, World!\"\n",
    "print(my_string.upper())\n",
    "print(my_string.lower()) "
   ]
  },
  {
   "cell_type": "code",
   "execution_count": 66,
   "metadata": {},
   "outputs": [
    {
     "name": "stdout",
     "output_type": "stream",
     "text": [
      "Hello, World!\n"
     ]
    }
   ],
   "source": [
    "# USING strip()\n",
    "# The strip() method removes  whitespace from a string.\n",
    "\n",
    "my_string = \"   Hello, World!   \"\n",
    "print(my_string.strip())"
   ]
  },
  {
   "cell_type": "markdown",
   "metadata": {},
   "source": [
    "USES OF PYTHON BUILT-IN FUNCTIONS SUCH AS len(), sum(), max() and min()\n",
    "\n",
    "These built-in functions ease the work of programers by not of over thinking and wasting time of creating such essential functions.  "
   ]
  },
  {
   "cell_type": "markdown",
   "metadata": {},
   "source": [
    "The len() fucntion. \n",
    "\n",
    "It returns the number of elements in a sequence, such as a list, tuple, or string.\n"
   ]
  },
  {
   "cell_type": "code",
   "execution_count": 67,
   "metadata": {},
   "outputs": [
    {
     "name": "stdout",
     "output_type": "stream",
     "text": [
      "5\n",
      "5\n",
      "13\n"
     ]
    }
   ],
   "source": [
    "#Examples of the use of len()\n",
    "\n",
    "#in a list\n",
    "num = [1, 2, 3, 4, 5]\n",
    "print(len(num)) \n",
    "# in a tuple\n",
    "my_tuple = (1, 2, 3, 4, 5)\n",
    "print(len(my_tuple))\n",
    "#in a string \n",
    "greeting= \"Hello, World!\"\n",
    "print(len(greeting))\n"
   ]
  },
  {
   "cell_type": "code",
   "execution_count": 88,
   "metadata": {},
   "outputs": [
    {
     "name": "stdout",
     "output_type": "stream",
     "text": [
      "5\n",
      "8\n"
     ]
    }
   ],
   "source": [
    "#USE OF max()\n",
    "\n",
    "#The max() function returns the largest element in a sequence.\n",
    "\n",
    "#Example\n",
    "my_list = [1, 2, 3, 4, 5]\n",
    "print(max(my_list))\n",
    "\n",
    "my_tuple = (1, 2, 3, 4, 8)\n",
    "print(max(my_tuple))"
   ]
  },
  {
   "cell_type": "code",
   "execution_count": 92,
   "metadata": {},
   "outputs": [
    {
     "name": "stdout",
     "output_type": "stream",
     "text": [
      "-3\n",
      "1\n"
     ]
    }
   ],
   "source": [
    "# USE OF min()\n",
    "#The min() function returns the smallest element in a sequence.\n",
    "\n",
    "#Example\n",
    "#FOR LIST\n",
    "A= [1, 2, -3, 4, 5]\n",
    "print(min(A))\n",
    "#FOR TUPLE\n",
    "C = (1, 2, 3, 4, 5)\n",
    "print(min(C))"
   ]
  },
  {
   "cell_type": "code",
   "execution_count": 103,
   "metadata": {},
   "outputs": [
    {
     "ename": "TypeError",
     "evalue": "unhashable type: 'list'",
     "output_type": "error",
     "traceback": [
      "\u001b[1;31m---------------------------------------------------------------------------\u001b[0m",
      "\u001b[1;31mTypeError\u001b[0m                                 Traceback (most recent call last)",
      "Cell \u001b[1;32mIn[103], line 8\u001b[0m\n\u001b[0;32m      1\u001b[0m \u001b[38;5;66;03m#USE OF sum()\u001b[39;00m\n\u001b[0;32m      2\u001b[0m \u001b[38;5;66;03m#The sum() function returns the sum of all elements in a sequence.\u001b[39;00m\n\u001b[0;32m      3\u001b[0m \n\u001b[0;32m      4\u001b[0m \u001b[38;5;66;03m#Examples\u001b[39;00m\n\u001b[0;32m      5\u001b[0m \n\u001b[0;32m      6\u001b[0m \u001b[38;5;66;03m# for Lists\u001b[39;00m\n\u001b[0;32m      7\u001b[0m x \u001b[38;5;241m=\u001b[39m [\u001b[38;5;241m1\u001b[39m, \u001b[38;5;241m2\u001b[39m, \u001b[38;5;241m3\u001b[39m, \u001b[38;5;241m4\u001b[39m, \u001b[38;5;241m5\u001b[39m]\n\u001b[1;32m----> 8\u001b[0m total \u001b[38;5;241m=\u001b[39m \u001b[38;5;28msum\u001b[39m({x}) \n\u001b[0;32m      9\u001b[0m \u001b[38;5;28mprint\u001b[39m(total)\n\u001b[0;32m     10\u001b[0m \u001b[38;5;66;03m# for tuples\u001b[39;00m\n",
      "\u001b[1;31mTypeError\u001b[0m: unhashable type: 'list'"
     ]
    }
   ],
   "source": [
    "#USE OF sum()\n",
    "#The sum() function returns the sum of all elements in a sequence.\n",
    "\n",
    "#Examples\n",
    "\n",
    "# for Lists\n",
    "x = [1, 2, 3, 4, 5]\n",
    "total = sum(x) \n",
    "print(total)\n",
    "# for tuples\n",
    "y= (1, 2, 3, 4, 5)\n",
    "total = sum(y)\n",
    "print(total)\n"
   ]
  }
 ],
 "metadata": {
  "kernelspec": {
   "display_name": "Python 3",
   "language": "python",
   "name": "python3"
  },
  "language_info": {
   "codemirror_mode": {
    "name": "ipython",
    "version": 3
   },
   "file_extension": ".py",
   "mimetype": "text/x-python",
   "name": "python",
   "nbconvert_exporter": "python",
   "pygments_lexer": "ipython3",
   "version": "3.12.6"
  }
 },
 "nbformat": 4,
 "nbformat_minor": 2
}
