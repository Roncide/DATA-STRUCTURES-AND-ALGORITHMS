{
 "cells": [
  {
   "cell_type": "markdown",
   "metadata": {},
   "source": [
    "A stack- a pile  \n",
    "\n",
    "works with LIFO principle"
   ]
  },
  {
   "cell_type": "code",
   "execution_count": 7,
   "metadata": {},
   "outputs": [
    {
     "name": "stdout",
     "output_type": "stream",
     "text": [
      "stack [1, 2, 3]\n",
      "after removing [1, 2]\n",
      "uppermost element 2\n"
     ]
    }
   ],
   "source": [
    "stack = []\n",
    "\n",
    "stack.append(1)\n",
    "stack.append(2)\n",
    "stack.append(3)\n",
    "print(\"stack\", stack)\n",
    "\n",
    "#remove elements from stack\n",
    "if stack:\n",
    "    stack.pop(-1)\n",
    "print(\"after removing\", stack)    \n",
    "\n",
    "#to call the uppermost element\n",
    "if stack:\n",
    "    print(\"uppermost element\", stack[-1])"
   ]
  },
  {
   "cell_type": "code",
   "execution_count": 11,
   "metadata": {},
   "outputs": [
    {
     "name": "stdout",
     "output_type": "stream",
     "text": [
      "queue deque([1, 2, 3])\n",
      "after removing deque([2, 3])\n",
      "removed element 2\n",
      "leftmost element 2\n"
     ]
    }
   ],
   "source": [
    "# queue\n",
    "from collections import deque\n",
    "queue = deque()\n",
    "\n",
    "queue.append(1) #appendleft() to add element to the left\n",
    "queue.append(2) #appendright() to add element to the right\n",
    "queue.append(3)\n",
    "\n",
    "print(\"queue\", queue)\n",
    "\n",
    "# remove elements from queue    \n",
    "if queue:\n",
    "    queue.popleft() #popright() to remove element from the right\n",
    "    print(\"after removing\", queue)\n",
    "\n",
    "if queue:\n",
    "    print(\"rightmost element\", queue[-1]) #leftmost element queue[0]    \n",
    "\n",
    "if queue:\n",
    "    print(\"leftmost element\", queue[0]) #rightmost element queue[-1]"
   ]
  },
  {
   "cell_type": "code",
   "execution_count": null,
   "metadata": {},
   "outputs": [],
   "source": []
  }
 ],
 "metadata": {
  "kernelspec": {
   "display_name": "Python 3",
   "language": "python",
   "name": "python3"
  },
  "language_info": {
   "codemirror_mode": {
    "name": "ipython",
    "version": 3
   },
   "file_extension": ".py",
   "mimetype": "text/x-python",
   "name": "python",
   "nbconvert_exporter": "python",
   "pygments_lexer": "ipython3",
   "version": "3.12.6"
  }
 },
 "nbformat": 4,
 "nbformat_minor": 2
}
