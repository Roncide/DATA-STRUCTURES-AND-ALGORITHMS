{
 "cells": [
  {
   "cell_type": "markdown",
   "metadata": {},
   "source": [
    "MUGISHA AARON KAGYA\n",
    "\n",
    "S24B38/031\n",
    "\n",
    "B30581"
   ]
  },
  {
   "cell_type": "markdown",
   "metadata": {},
   "source": [
    " # 1. Introduction to Data Structures and Algorithms. \n",
    "A data structure is a way of organizing and storing data so that it can be accessed and manipulated efficiently while algorithms are step-by-step procedures for solving problems. Together, they play a vital role in ensuring the efficiency of programs, as they directly affect the performance, scalability, and speed of applications."
   ]
  },
  {
   "cell_type": "markdown",
   "metadata": {},
   "source": [
    "# 2. Abstract Data Types (ADT) and Data Structures.\n",
    "An ADT is a mathematical model for certain data structures. It defines the logical behavior and operations of data but does not specify the concrete implementation.\n",
    "\n",
    "ADTs provide an abstraction, allowing programmers to focus on what operations are available, rather than how these operations are implemented.\n",
    "\n",
    "Role in Programming\n",
    "\n",
    "ADTs allow developers to think at a higher level of abstraction. They focus on the behavior and functionality of the data rather than its implementation, which can vary.\n",
    "Difference Between ADT and Data Structure:\n",
    "\n",
    "ADT is a conceptual description of data and operations, focusing on what operations can be performed (e.g., push, pop, insert, delete).\n",
    "\n",
    "Data Structure is a concrete implementation of the ADT, specifying how data is arranged in memory (e.g., arrays, linked lists).\n",
    "\n",
    "Example:\n",
    "\n",
    "ADT: Stack (defines operations like push, pop, peek)\n",
    "\n",
    "Data Structure Implementation: Stack implemented using an array or a linked list in Python.\n"
   ]
  },
  {
   "cell_type": "markdown",
   "metadata": {},
   "source": [
    "# 3. Types of Data Structures"
   ]
  },
  {
   "cell_type": "markdown",
   "metadata": {},
   "source": [
    "Arrays: An array is a collection of elements, each identified by an index or key. It allows quick access to elements but has a fixed size."
   ]
  },
  {
   "cell_type": "code",
   "execution_count": 15,
   "metadata": {},
   "outputs": [
    {
     "name": "stdout",
     "output_type": "stream",
     "text": [
      "1\n"
     ]
    }
   ],
   "source": [
    "# Example of an array\n",
    "arr = [1, 2, 3, 4, 5]\n",
    "print(arr[0])  # index 0 is to ac\n"
   ]
  },
  {
   "cell_type": "markdown",
   "metadata": {},
   "source": [
    "Linked Lists: A linked list is a linear data structure where each element (node) points to the next. It's dynamic, allowing easy insertions and deletions"
   ]
  },
  {
   "cell_type": "code",
   "execution_count": 16,
   "metadata": {},
   "outputs": [],
   "source": [
    "class Node:\n",
    "    def __init__(self, value):\n",
    "        self.value = value\n",
    "        self.next = None\n",
    "\n",
    "# Creating linked list\n",
    "head = Node(1)\n",
    "second = Node(2)\n",
    "head.next = second\n"
   ]
  },
  {
   "cell_type": "markdown",
   "metadata": {},
   "source": [
    "Stacks: A stack is a collection where elements are added and removed in a Last In, First Out (LIFO) order."
   ]
  },
  {
   "cell_type": "code",
   "execution_count": 17,
   "metadata": {},
   "outputs": [
    {
     "data": {
      "text/plain": [
       "2"
      ]
     },
     "execution_count": 17,
     "metadata": {},
     "output_type": "execute_result"
    }
   ],
   "source": [
    "# Stack using list\n",
    "stack = []\n",
    "stack.append(1)  # this means add element to the end of the list\n",
    "stack.append(2)\n",
    "stack.pop()  # this means remove the last element from the list\n"
   ]
  },
  {
   "cell_type": "markdown",
   "metadata": {},
   "source": [
    "Queues: A queue is a collection where elements are added and removed in a First In, First Out (FIFO) order."
   ]
  },
  {
   "cell_type": "code",
   "execution_count": 18,
   "metadata": {},
   "outputs": [
    {
     "data": {
      "text/plain": [
       "1"
      ]
     },
     "execution_count": 18,
     "metadata": {},
     "output_type": "execute_result"
    }
   ],
   "source": [
    "# Queue using deque\n",
    "from collections import deque # deque is a double ended queue, these are faster than list\n",
    "queue = deque([1, 2, 3])\n",
    "queue.append(4)  # this means add 4 to the end of the queue\n",
    "queue.popleft()  # this means remove the first element from the queue\n"
   ]
  },
  {
   "cell_type": "markdown",
   "metadata": {},
   "source": [
    "Recursion: Recursion is a technique where a function calls itself to solve a problem."
   ]
  },
  {
   "cell_type": "code",
   "execution_count": 19,
   "metadata": {},
   "outputs": [],
   "source": [
    "# Factorial using recursion\n",
    "def factorial(n):\n",
    "    if n == 0:\n",
    "        return 1\n",
    "    return n * factorial(n - 1)\n"
   ]
  },
  {
   "cell_type": "markdown",
   "metadata": {},
   "source": [
    "Trees: A tree is a hierarchical data structure with a root element, where each node can have multiple child nodes."
   ]
  },
  {
   "cell_type": "code",
   "execution_count": 20,
   "metadata": {},
   "outputs": [],
   "source": [
    "class TreeNode:\n",
    "    def __init__(self, value):\n",
    "        self.value = value\n",
    "        self.children = []\n",
    "\n",
    "# Example tree with root node\n",
    "root = TreeNode(1)\n",
    "root.children.append(TreeNode(2))\n"
   ]
  },
  {
   "cell_type": "markdown",
   "metadata": {},
   "source": [
    "Graphs: A graph is a collection of nodes (vertices) and edges connecting pairs of nodes"
   ]
  },
  {
   "cell_type": "code",
   "execution_count": 21,
   "metadata": {},
   "outputs": [],
   "source": [
    "# Graph using dictionary\n",
    "graph = {\n",
    "    1: [2, 3],\n",
    "    2: [1, 4],\n",
    "    3: [1],\n",
    "    4: [2]\n",
    "}"
   ]
  },
  {
   "cell_type": "markdown",
   "metadata": {},
   "source": [
    "### 4. Operations on Data Structures\n",
    "•\tTraversing: Visiting each element of the data structure once. Example: Iterating over all nodes in a linked list or all elements in an array.\n",
    "\n",
    "•\tSearching: Finding an element in a data structure. Example: Linear search or binary search.\n",
    "\n",
    "•\tInsertion: Adding an element to the data structure. Example: Adding an element to the front of a linked list.\n",
    "\n",
    "•\tDeletion: Removing an element from the data structure. Example: Removing an element from the queue.\n",
    "\n",
    "•\tUpdating: Modifying an existing element. Example: Changing a value in an array.\n",
    "\n",
    "•\tSorting: Arranging the elements in a specified order. Example: Bubble sort, quicksort.\n",
    "\n",
    "•\tMerging: Combining two data structures. Example: Merging two sorted arrays into one.\n",
    "________________________________________\n"
   ]
  },
  {
   "cell_type": "markdown",
   "metadata": {},
   "source": [
    "### 5. Algorithms "
   ]
  },
  {
   "cell_type": "markdown",
   "metadata": {},
   "source": [
    "• An algorithm is a step-by-step procedure used for solving a problem or performing a task. It is the blueprint that ensures problems are solved efficiently.\n",
    "•\tPseudocode for Common Algorithms:\n",
    "#### \tSummation of Numbers in an Array:\n",
    "\tAlgorithm: SumArray\n",
    "\n",
    "\tInput: Array of numbers\n",
    "\n",
    "\tOutput: Sum of the array\n",
    "\t\n",
    "\tInitialize sum = 0\n",
    "\n",
    "\tFor each element in the array:\n",
    "\n",
    "\t    Add element to sum\n",
    "\n",
    "\tReturn sum\n",
    "\n",
    "####\tMatrix Multiplication:\n",
    "\tAlgorithm: MatrixMultiplication\n",
    "\n",
    "\tInput: Two matrices A and B\n",
    "\n",
    "\tOutput: Matrix C (product of A and B)\n",
    "\t\n",
    "\tFor i from 1 to rows of A:\n",
    "\n",
    "\t    For j from 1 to columns of B:\n",
    "\n",
    "\t        C[i][j] = sum(A[i][k] * B[k][j] for k)\n",
    "\n",
    "\tReturn C\n"
   ]
  },
  {
   "cell_type": "markdown",
   "metadata": {},
   "source": [
    "###\tTypes of Algorithms\n",
    "Brute Force: Solves a problem by trying all possible solutions. Example: Checking all pairs for the closest points.\n",
    "\n",
    "Recursive: Solves problems by solving smaller instances of the same problem. Example: Fibonacci series.\n",
    "\n",
    "Divide and Conquer: Breaks a problem into smaller subproblems, solves them, and combines the results. Example: Merge sort.\n",
    "\n",
    "Dynamic Programming: Solves problems by storing results of subproblems to avoid redundant computations. Example: Fibonacci series using DP.\n",
    "\n",
    "Greedy: Makes the locally optimal choice at each step with the hope of finding the global optimum. Example: Dijkstra's algorithm for shortest path.\n",
    "\n",
    "Backtracking: Solves problems by trying possible solutions and undoing them if they don't lead to a solution. Example: Solving a Sudoku puzzle.\n",
    "________________________________________\n"
   ]
  },
  {
   "cell_type": "markdown",
   "metadata": {},
   "source": [
    "### 6. Algorithm Representation\n",
    "•\tPseudocode: Pseudocode is a way to represent algorithms using human-readable language, focusing on the logic rather than syntax.\n",
    "\n",
    "•\tFlowchart: A flowchart is a diagrammatic representation of an algorithm, showing the flow of execution with different shapes representing different steps.\n"
   ]
  },
  {
   "cell_type": "markdown",
   "metadata": {},
   "source": [
    "### 7. Guidelines for Flowcharts\n",
    "•\tUse standard symbols: Oval for start and end, parallelogram for input/output, rectangle for process, and diamond for decision.\n",
    "\n",
    "•\tKeep it simple: Avoid unnecessary details or excessive steps.\n",
    "\n",
    "•\tFollow a clear flow: Ensure the flow moves logically from start to end.\n",
    "\n",
    "•\tUse arrows to indicate the flow of control.\n",
    "\n",
    "•\tTest the flowchart to make sure it covers all edge cases.\n"
   ]
  },
  {
   "cell_type": "markdown",
   "metadata": {},
   "source": [
    "8. In conclusion, Learning data structures and algorithms is essential for efficient problem-solving in programming. They help in choosing the right approach for optimizing performance and scalability.\n",
    "________________________________________\n"
   ]
  }
 ],
 "metadata": {
  "kernelspec": {
   "display_name": "Python 3",
   "language": "python",
   "name": "python3"
  },
  "language_info": {
   "codemirror_mode": {
    "name": "ipython",
    "version": 3
   },
   "file_extension": ".py",
   "mimetype": "text/x-python",
   "name": "python",
   "nbconvert_exporter": "python",
   "pygments_lexer": "ipython3",
   "version": "3.12.6"
  }
 },
 "nbformat": 4,
 "nbformat_minor": 2
}
