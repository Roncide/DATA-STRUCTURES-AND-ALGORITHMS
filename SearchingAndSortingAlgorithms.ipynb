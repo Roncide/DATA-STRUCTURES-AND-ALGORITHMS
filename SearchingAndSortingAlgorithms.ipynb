{
 "cells": [
  {
   "cell_type": "markdown",
   "metadata": {},
   "source": [
    "- B30581\n"
   ]
  },
  {
   "cell_type": "markdown",
   "metadata": {},
   "source": [
    "#### Searching algorithms\n",
    "\n",
    "##### Linear Search Algorithm\n",
    "This type of algothrim is a simple search algorithm thcheck every element of a array sequentially unitl the desired element i found. \n",
    "- NB: It is goood for small datasets or unsorted data\n"
   ]
  },
  {
   "cell_type": "code",
   "execution_count": null,
   "metadata": {},
   "outputs": [],
   "source": [
    "#pseudocode\n",
    "#function liear_search(array, target):\n",
    "#    for each element in the array:\n",
    "#        if element == target:\n",
    "#            return its index of the element\n",
    "#    return -1 #target was not found\n",
    "#"
   ]
  },
  {
   "cell_type": "markdown",
   "metadata": {},
   "source": [
    "##### flowchart\n",
    "[linear search algorithm](<../../Dokumenter/linear search 2.drawio>)\n",
    "\n"
   ]
  },
  {
   "cell_type": "code",
   "execution_count": null,
   "metadata": {},
   "outputs": [
    {
     "name": "stdout",
     "output_type": "stream",
     "text": [
      "3\n",
      "Target found at index:  3\n"
     ]
    }
   ],
   "source": [
    "#python im plementation fo the pseudocode above \n",
    "def linear_search(array, target):\n",
    "    for i in range(0, len(array)):\n",
    "        if array[i] == target:\n",
    "            return i\n",
    "\n",
    "#example\n",
    "array = [1, 3, 5, 7, 9,12,26, 35, 42, 56, 78, 99] \n",
    "target = 7 # here you can change the target value to any value in the array\n",
    "results = linear_search(array, target) \n",
    "print(results) # this will print the index of the target value in the array\n",
    "if results != -1:\n",
    "    print(\"Target found at index: \", results)           \n"
   ]
  },
  {
   "cell_type": "markdown",
   "metadata": {},
   "source": [
    "#### Time Complexity\n",
    "- Best case O(1) here the target is at the beginning\n",
    "- worst case O(n ) here the target is athe end of not present\n",
    "- Average case O(n) this is expected time the algorithm will take to excute an anwers for a give code.\n",
    "\n",
    "#### Advatages \n",
    "- simpple to implement\n",
    "- Works om unsorted data\n",
    "#### Disavantages\n",
    "- Inefficient for large datasets"
   ]
  },
  {
   "cell_type": "markdown",
   "metadata": {},
   "source": [
    "### Binary Search\n",
    "Is an algorithm that works on sorted arrays, it repeatedly divides the search interval in half, making it faster than linear search.\n",
    "\n"
   ]
  },
  {
   "cell_type": "code",
   "execution_count": null,
   "metadata": {},
   "outputs": [],
   "source": [
    "#Pseudocode for binary search\n",
    "#function binary_search(array, target):\n",
    "#    low = 0\n",
    "#    high = length of the array - 1\n",
    "#    while low <= high: \n",
    "#        mid = (low + high) / 2 \n",
    "#        if array in mid == target:\n",
    "#            return mid\n",
    "#        elif array in mid < target:\n",
    "#            low = mid + 1\n",
    "#        else:\n",
    "#            high = mid - 1\n",
    "#    return -1 # at this point the target is not in the array"
   ]
  },
  {
   "cell_type": "markdown",
   "metadata": {},
   "source": [
    "#### flowchart\n",
    "[binary search](<../../Dokumenter/binary search.drawio>)"
   ]
  },
  {
   "cell_type": "code",
   "execution_count": null,
   "metadata": {},
   "outputs": [
    {
     "name": "stdout",
     "output_type": "stream",
     "text": [
      "11\n",
      "Target found at index:  11\n"
     ]
    }
   ],
   "source": [
    "#Example of binary search (python Impementation)\n",
    "def binary_search(array, target):\n",
    "    low = 0\n",
    "    high = len(array) - 1\n",
    "    while low <= high:\n",
    "        mid = (low + high) // 2\n",
    "        if array[mid] == target:\n",
    "            return mid\n",
    "        elif array[mid] < target:\n",
    "            low = mid + 1\n",
    "        else:\n",
    "            high = mid - 1\n",
    "    return -1\n",
    "\n",
    "#example usage\n",
    "array = [1, 3, 5, 7, 9, 12, 26, 35, 42, 56, 78, 99]\n",
    "target = 99\n",
    "result = binary_search(array, target)\n",
    "print(result)\n",
    "if result != -1:\n",
    "    print(\"Target found at index: \", result)\n",
    "else:\n",
    "    print(\"Target not found in the array\")        \n",
    "\n"
   ]
  },
  {
   "cell_type": "markdown",
   "metadata": {},
   "source": [
    "#### Time complexity\n",
    "- Best case O(1) here the target is in the middle\n",
    "- Worst case O(log n)\n",
    "- Average Case O(log n)\n",
    "#### Advatages\n",
    "- Much faster than linear search for large datasets (O(log n))\n",
    "#### Disadvantages\n",
    "- Works only on sorted data\n",
    "- Requires preprocessing if data is unsorted\n",
    "##### NB:\n",
    "- Use when you have a sorted dataset and need fast search operations\n",
    "- Do not use if the dataset unsorted or frequently changing. "
   ]
  },
  {
   "cell_type": "markdown",
   "metadata": {},
   "source": [
    "## Sortig Algorithms\n",
    "#### 1. Bubble Sort\n",
    "it repeatedly steps through the array, compares the adjacent elements, and swaps them if they are in the wrong order."
   ]
  },
  {
   "cell_type": "code",
   "execution_count": null,
   "metadata": {},
   "outputs": [],
   "source": [
    "#Pseudocode for bubble sort\n",
    "#function bubble_sort(array):\n",
    "#    for i from 0 to length of array - 1:\n",
    "#        for j from 0 to length of array - 1:\n",
    "#            if array[j] > array[j+1]:\n",
    "#                swap(array[j], array[j+1])"
   ]
  },
  {
   "cell_type": "code",
   "execution_count": null,
   "metadata": {},
   "outputs": [
    {
     "name": "stdout",
     "output_type": "stream",
     "text": [
      "[11, 12, 22, 25, 34, 64, 90]\n"
     ]
    }
   ],
   "source": [
    "#Example of bubble sort (python implementation)\n",
    "def bubble_sort(array):\n",
    "    for i in range(0, len(array) - 1):\n",
    "        for j in range(0, len(array) - 1):\n",
    "            if array[j] > array[j+1]:\n",
    "                array[j], array[j+1] = array[j+1], array[j]\n",
    "    return array\n",
    "\n",
    "array = [64, 34, 25, 12, 22, 11, 90]\n",
    "result = bubble_sort(array) \n",
    "print(result) # this will print the sorted array    "
   ]
  },
  {
   "cell_type": "markdown",
   "metadata": {},
   "source": [
    "#### Time complexity\n",
    "- Best case O(n) here the array will be already sorted\n",
    "- Worst case O(n^2)\n",
    "- Average case O(n^2)\n",
    "#### Advantages\n",
    "- Simple to understand and implement\n",
    "- Can be useful for small datasets\n",
    "#### Disadvantages\n",
    "- Inefficient for large datasets\n",
    "##### NB:\n",
    "- Use when simplicity is preferred and datasets are small\n",
    "- Do not use for large datasets, as it's not efficient\n"
   ]
  },
  {
   "cell_type": "markdown",
   "metadata": {},
   "source": [
    "#### Insertion sort\n",
    "It builds thr sorted array one element at a time by repeatedly taking the next unsorted element and inseting it into its correct position in the sorted part of the array."
   ]
  },
  {
   "cell_type": "code",
   "execution_count": null,
   "metadata": {},
   "outputs": [],
   "source": [
    "#pseudocode for insertion sort\n",
    "#function insertion_sort(array):\n",
    "#    for i from 1 to length of array -1:\n",
    "#        key = array[i]\n",
    "#        j = i - 1\n",
    "#        while j >= 0 and key < array[j]:    \n",
    "#            array[j + 1] = array[j]\n",
    "#            j = j - 1"
   ]
  },
  {
   "cell_type": "code",
   "execution_count": 5,
   "metadata": {},
   "outputs": [
    {
     "name": "stdout",
     "output_type": "stream",
     "text": [
      "[11, 12, 22, 25, 34, 64]\n"
     ]
    }
   ],
   "source": [
    "#example of insertion sort (python implementation)\n",
    "def insertion_sort(array):\n",
    "    for i in range(1, len(array)):\n",
    "        key = array[i]\n",
    "        j = i - 1\n",
    "        while j >= 0 and key < array[j]:\n",
    "            array[j + 1] = array[j]\n",
    "            j = j - 1\n",
    "        array[j + 1] = key\n",
    "    return array\n",
    "\n",
    "array = [64, 34, 25, 12, 22, 11]\n",
    "sorted_array = insertion_sort(array)\n",
    "print(sorted_array) # this will print the sorted array      \n"
   ]
  },
  {
   "cell_type": "markdown",
   "metadata": {},
   "source": [
    "#### Time Complexity\n",
    "- Best case O(n), this is when it already sorted\n",
    "- Worst case O(n^2)\n",
    "- Average case O(n^2)\n",
    "#### Advantage\n",
    "- Simple and efficient for small datasets or nearly sorted arrays.\n",
    "#### Disadvantages\n",
    "- Inefficient for large dataset\n",
    "##### NB:\n",
    "- Use when data is already mostly sorted or the dataset is small.\n",
    "- Do not use on large unsorted datasets due to O(n^2) time complexity. "
   ]
  },
  {
   "cell_type": "markdown",
   "metadata": {},
   "source": [
    "### Selection Sort\n",
    "It dividing the list into two parts, the sorted and the unsorted part, it repeatedly selects the smallest or the largest element from the unsorted part."
   ]
  },
  {
   "cell_type": "code",
   "execution_count": 1,
   "metadata": {},
   "outputs": [
    {
     "name": "stdout",
     "output_type": "stream",
     "text": [
      "Sorted list : [6, 8, 11, 22, 26, 28, 33]\n"
     ]
    }
   ],
   "source": [
    "#Peudocode\n",
    "#function selectionSort(list):\n",
    "#   for i from 0 to length of list - 1:\n",
    "#       min_index = i\n",
    "#       for j from i+1 to the length of list:\n",
    "#           if list[j] < list[min_index]:\n",
    "#               min_index = j\n",
    "#           swap list[i] and list[min_index]\n",
    "\n",
    "# python implementation\n",
    "def selection_sort(list):\n",
    "    n = len(list)\n",
    "    for i in range(n):\n",
    "        min_index = i\n",
    "        for j in range(i + 1, n):\n",
    "            if list[j] < list[min_index]:\n",
    "                min_index = j\n",
    "        list[i], list[min_index] = list[min_index], list[i]\n",
    "    return list\n",
    "#Example usage\n",
    "list = [8,6,26,28,22,33,11]\n",
    "sorted_list = selection_sort(list)\n",
    "print(\"Sorted list :\",sorted_list)\n"
   ]
  },
  {
   "cell_type": "markdown",
   "metadata": {},
   "source": [
    "#### Time complexity\n",
    "- Best case O(n^2)\n",
    "- Worst case O(n^2)\n",
    "- Average case O(n^2)\n",
    "##### Advantages\n",
    "- Simple to understand\n",
    "- Works well with small lists\n",
    "##### Disadvantages\n",
    "- Inefficient for large datasets\n",
    "##### NB:\n",
    "- Use for small dataset where simplicity is a priority.\n",
    "- Do not use on large datasets as it performs as it perform poorly with O(n^2) time complexity.\n"
   ]
  },
  {
   "cell_type": "markdown",
   "metadata": {},
   "source": [
    "## Quick Sort\n",
    "Is an efficent divide and conquer algorithm that works by selecting a pivot element and partitioning the array around the pivot, then recursively sorting the subarrays."
   ]
  },
  {
   "cell_type": "code",
   "execution_count": 2,
   "metadata": {},
   "outputs": [
    {
     "name": "stdout",
     "output_type": "stream",
     "text": [
      "Sorted array: [5, 22, 24, 54, 64, 99, 132, 234]\n"
     ]
    }
   ],
   "source": [
    "#Pseudocode for Quick sort\n",
    "\n",
    "#function quickSort(list):\n",
    "#   if length of list <= 1:\n",
    "#       return list\n",
    "#pivot = choose a pivot element\n",
    "#left = elements less than pivot\n",
    "#right = elements greater than pivot\n",
    "#    return quickSort(left) + pivot + quickSort(right)\n",
    "\n",
    "#Python Implemention\n",
    "\n",
    "def quick_sort(list):\n",
    "    if len(list) <= 1:\n",
    "        return list \n",
    "    pivot = list[len(list)//2]\n",
    "    left = [x for x in list if x < pivot]\n",
    "    middle = [x for x in list if x == pivot]\n",
    "    right = [x for x in list if x > pivot]\n",
    "    return quick_sort(left) + middle + quick_sort(right)\n",
    "\n",
    "#Example usage \n",
    "\n",
    "list = [64,22,54,234,5,24,99,132]     \n",
    "sorted_list = quick_sort(list)\n",
    "print(\"Sorted array:\", sorted_list)    "
   ]
  },
  {
   "cell_type": "markdown",
   "metadata": {},
   "source": [
    "#### Time Complexity\n",
    "- Base case O(nlog n)\n",
    "- Worst case O(n^2)\n",
    "- Average case O(n log n)\n",
    "##### Advantages\n",
    "- Efficient for dataset on average\n",
    "- Works well in partice \n",
    "##### Disadvantages\n",
    "- Worst case time complexity is O(n^2)\n",
    "#### NB\n",
    "- Use when the dataset is large, and average performace matters.\n",
    "- Do not use when you can not afford the worst case time complexity.\n"
   ]
  },
  {
   "cell_type": "markdown",
   "metadata": {},
   "source": [
    "#### Merge Sort\n",
    "Is a divide and conquer algorithm that splits the list into two halves, recursively sorts each half and then merges the two halves.\n"
   ]
  },
  {
   "cell_type": "code",
   "execution_count": null,
   "metadata": {},
   "outputs": [
    {
     "name": "stdout",
     "output_type": "stream",
     "text": [
      "Sorted array: [3, 23, 34, 43, 46, 48, 53, 65, 334]\n"
     ]
    }
   ],
   "source": [
    "# Pseudocode for Merge sort\n",
    "\n",
    "#function mergeSort(list):\n",
    "#   if length of list <= 1:\n",
    "#       return list\n",
    "#   mid = length of list / 2\n",
    "#   left = mergeSort(list[0..mid])\n",
    "#   right = mergeSort(list[mid..end])\n",
    "#   return merge(left,right)\n",
    "\n",
    "#function merge(left, right):\n",
    "#   result = []\n",
    "#   while left and right:\n",
    "#       if left[0] < right[0]:\n",
    "#           append left[0] to result\n",
    "#           remove left[0]\n",
    "#       else:\n",
    "#           appemd right[0] to result to result\n",
    "#           remove right[0]\n",
    "#   append remaining elements of left and right to result\n",
    "#   return result\n",
    "\n",
    "\n",
    "# Python Implemetation \n",
    "def merge_sort(arr):\n",
    "    if len(arr) <= 1:\n",
    "        return arr\n",
    "    mid = len(arr) // 2\n",
    "    left = merge_sort(arr[:mid])\n",
    "    right = merge_sort(arr[mid:])\n",
    "    return merge(left, right)\n",
    "##########################OR###########################################\n",
    "# def merge(left, right):\n",
    "#     result = []\n",
    "#     while left and right:\n",
    "#         if left[0] < right[0]:\n",
    "#             result.append(left.pop(0))\n",
    "#         else:\n",
    "#             result.append(right.pop(0))\n",
    "#     result.extend(left)\n",
    "#     result.extend(right)\n",
    "#     return result\n",
    "\n",
    "#Example Usage\n",
    "arr = [23,34,334,65,43,53,46,3,48]\n",
    "sorted_arr = merge_sort(arr)\n",
    "print(\"Sorted array:\", sorted_arr)\n"
   ]
  },
  {
   "cell_type": "markdown",
   "metadata": {},
   "source": [
    "#### Time Complexity\n",
    "- Best case is O(n log n)\n",
    "- Worst case is O(n log n)\n",
    "- Average case is O(n log n)\n",
    "#### Advantages\n",
    "- Always O(n log n), even in th worst case\n",
    "- Stable sort\n",
    "#### Disadvantages\n",
    "- Requires additional memory for merging\n",
    "### NB:\n",
    "- Use when stability is required or when the dataset is large.\n",
    "- Do not use when meory usagr is a concern."
   ]
  }
 ],
 "metadata": {
  "kernelspec": {
   "display_name": "Python 3",
   "language": "python",
   "name": "python3"
  },
  "language_info": {
   "codemirror_mode": {
    "name": "ipython",
    "version": 3
   },
   "file_extension": ".py",
   "mimetype": "text/x-python",
   "name": "python",
   "nbconvert_exporter": "python",
   "pygments_lexer": "ipython3",
   "version": "3.12.6"
  }
 },
 "nbformat": 4,
 "nbformat_minor": 2
}
