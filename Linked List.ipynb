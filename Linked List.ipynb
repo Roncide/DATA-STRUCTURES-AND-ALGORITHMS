{
 "cells": [
  {
   "cell_type": "markdown",
   "metadata": {},
   "source": [
    "Linked list-In computer science, a linked list is a linear collection of data elements whose order is not given by their physical placement in memory. Instead, each element points to the next. It is a data structure consisting of a collection of nodes which together represent a sequence.\n",
    "\n",
    "node-a structure that contains the following:\n",
    "\n",
    "data(value stored  in the node)\n",
    "\n",
    "pointer(reference to the next node)\n",
    "\n",
    "head-the first node in a linked list \n",
    "\n",
    "tail-the last node in a linked list"
   ]
  },
  {
   "cell_type": "code",
   "execution_count": null,
   "metadata": {},
   "outputs": [
    {
     "name": "stdout",
     "output_type": "stream",
     "text": [
      "1 -> 2 -> 3 -> none\n",
      "1 -> 1.5 -> 2 -> 3 -> none\n",
      "1 -> 2 -> 3 -> none\n"
     ]
    }
   ],
   "source": [
    "linked_list={\n",
    "    0:(1,1),\n",
    "    1:(2,2),\n",
    "    2:(3,-1)\n",
    "}\n",
    "\n",
    "def display_linked_list():\n",
    "    index=0\n",
    "    while index!=-1:\n",
    "        value,next_index=linked_list[index]\n",
    "        print(value,end=' -> ')  \n",
    "        index=next_index\n",
    "    print('none')\n",
    "display_linked_list() \n",
    "\n",
    "#adding data to the linked list\n",
    "\n",
    "\n",
    "linked_list[1]=(1.5,2)\n",
    "#adding data but without without removing the previous data\n",
    "linked_list[2]=(2,3) \n",
    "# this  next line gives 3 another index so that it can be accessed\n",
    "linked_list[3]=(3,-1)\n",
    "\n",
    "display_linked_list()\n",
    "\n",
    "\n",
    "#removing data from the linked list\n",
    "\n",
    "del linked_list[1]\n",
    "linked_list[0]=(1,2)\n",
    "display_linked_list()"
   ]
  },
  {
   "cell_type": "code",
   "execution_count": null,
   "metadata": {},
   "outputs": [],
   "source": []
  }
 ],
 "metadata": {
  "kernelspec": {
   "display_name": "Python 3",
   "language": "python",
   "name": "python3"
  },
  "language_info": {
   "codemirror_mode": {
    "name": "ipython",
    "version": 3
   },
   "file_extension": ".py",
   "mimetype": "text/x-python",
   "name": "python",
   "nbconvert_exporter": "python",
   "pygments_lexer": "ipython3",
   "version": "3.12.6"
  }
 },
 "nbformat": 4,
 "nbformat_minor": 2
}
