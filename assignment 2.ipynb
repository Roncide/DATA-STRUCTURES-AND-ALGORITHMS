{
 "cells": [
  {
   "cell_type": "markdown",
   "metadata": {},
   "source": [
    "MUGISHA AARON KAGYA\n",
    "S24B38/031\n"
   ]
  },
  {
   "cell_type": "markdown",
   "metadata": {},
   "source": [
    "LIST OPERATION"
   ]
  },
  {
   "cell_type": "code",
   "execution_count": 2,
   "metadata": {},
   "outputs": [
    {
     "name": "stdout",
     "output_type": "stream",
     "text": [
      "First fruit: Apple\n",
      "Last fruit: Cherry\n",
      "Updated fruit list: ['Mango', 'Orange', 'Cherry', 'Apple']\n"
     ]
    }
   ],
   "source": [
    "# 1. Create a list of fruits\n",
    "fruits = [\"Apple\", \"Banana\", \"Cherry\"]\n",
    "\n",
    "# Print the first and last fruit\n",
    "print(f\"First fruit: {fruits[0]}\")\n",
    "print(f\"Last fruit: {fruits[-1]}\")\n",
    "\n",
    "# Add two more fruits\n",
    "fruits.append(\"Orange\")\n",
    "fruits.append(\"Mango\")\n",
    "\n",
    "# Remove the second fruit (index 1)\n",
    "fruits.pop(1)\n",
    "\n",
    "# Reverse the list\n",
    "fruits.reverse()\n",
    "\n",
    "# Print the updated list\n",
    "print(f\"Updated fruit list: {fruits}\")\n"
   ]
  },
  {
   "cell_type": "markdown",
   "metadata": {},
   "source": [
    "IMPLEMENTING ADDING AND REMOVING ITEMS FROM THE LIST "
   ]
  },
  {
   "cell_type": "code",
   "execution_count": 3,
   "metadata": {},
   "outputs": [
    {
     "name": "stdout",
     "output_type": "stream",
     "text": [
      "Items after adding: ['Apple', 'Banana', 'Cherry']\n",
      "Removed: Apple\n",
      "Removed: Banana\n",
      "Removed: Cherry\n",
      "The list is empty.\n"
     ]
    }
   ],
   "source": [
    "# 1. Create an empty list\n",
    "items = []\n",
    "\n",
    "# 2. Function to add an item to the list\n",
    "def add_item(list_name, item):\n",
    "    list_name.append(item)\n",
    "\n",
    "# 3. Function to remove the first item from the list\n",
    "def remove_item(list_name):\n",
    "    if list_name:  # Check if the list is not empty\n",
    "        return list_name.pop(0)\n",
    "    else:\n",
    "        return None\n",
    "\n",
    "# Test the functions\n",
    "add_item(items, \"Apple\")\n",
    "add_item(items, \"Banana\")\n",
    "add_item(items, \"Cherry\")\n",
    "\n",
    "print(f\"Items after adding: {items}\")\n",
    "\n",
    "# Remove and print items one by one\n",
    "removed_item = remove_item(items)\n",
    "while removed_item is not None:\n",
    "    print(f\"Removed: {removed_item}\")\n",
    "    removed_item = remove_item(items)\n",
    "\n",
    "# Case when the list is empty\n",
    "if removed_item is None:\n",
    "    print(\"The list is empty.\")\n"
   ]
  },
  {
   "cell_type": "markdown",
   "metadata": {},
   "source": [
    "DICTIONARY OPERATIONS"
   ]
  },
  {
   "cell_type": "code",
   "execution_count": 4,
   "metadata": {},
   "outputs": [
    {
     "name": "stdout",
     "output_type": "stream",
     "text": [
      "Books in Fiction: ['Book1', 'Book2', 'Book4']\n",
      "Genre: Fiction, Books: ['Book1', 'Book2', 'Book4']\n",
      "Genre: Non-Fiction, Books: []\n"
     ]
    }
   ],
   "source": [
    "# 1. Create a dictionary for the library\n",
    "library = {\n",
    "    \"Fiction\": [\"Book1\", \"Book2\"],\n",
    "    \"Non-Fiction\": [\"Book3\"]\n",
    "}\n",
    "\n",
    "# Add a new book to a genre\n",
    "library[\"Fiction\"].append(\"Book4\")\n",
    "\n",
    "# Remove a book from a genre\n",
    "library[\"Non-Fiction\"].remove(\"Book3\")\n",
    "\n",
    "# Print all books in a specific genre (e.g., Fiction)\n",
    "print(f\"Books in Fiction: {library['Fiction']}\")\n",
    "\n",
    "# Print all genres and their books\n",
    "for genre, books in library.items():\n",
    "    print(f\"Genre: {genre}, Books: {books}\")\n"
   ]
  },
  {
   "cell_type": "markdown",
   "metadata": {},
   "source": [
    "Nested Dictionary: Creating and Accessing Data"
   ]
  },
  {
   "cell_type": "code",
   "execution_count": 5,
   "metadata": {},
   "outputs": [
    {
     "name": "stdout",
     "output_type": "stream",
     "text": [
      "Top-level keys: ['Country']\n",
      "Second-level keys under 'Country': ['State']\n",
      "Third-level keys under 'State': ['City']\n",
      "Neighborhoods in 'City':\n",
      " - Neighborhood1\n",
      " - Neighborhood2\n"
     ]
    }
   ],
   "source": [
    "# 1. Create a nested dictionary representing locations\n",
    "locations = {\n",
    "    \"Country\": {\n",
    "        \"State\": {\n",
    "            \"City\": [\"Neighborhood1\", \"Neighborhood2\"]\n",
    "        }\n",
    "    }\n",
    "}\n",
    "\n",
    "# 2. Access and print elements\n",
    "# Top-level keys\n",
    "print(f\"Top-level keys: {list(locations.keys())}\")\n",
    "\n",
    "# Second-level keys under \"Country\"\n",
    "country = locations[\"Country\"]\n",
    "print(f\"Second-level keys under 'Country': {list(country.keys())}\")\n",
    "\n",
    "# Third-level keys under \"State\"\n",
    "state = country[\"State\"]\n",
    "print(f\"Third-level keys under 'State': {list(state.keys())}\")\n",
    "\n",
    "# Print each neighborhood in \"City\"\n",
    "city = state[\"City\"]\n",
    "print(\"Neighborhoods in 'City':\")\n",
    "for neighborhood in city:\n",
    "    print(f\" - {neighborhood}\")\n"
   ]
  }
 ],
 "metadata": {
  "kernelspec": {
   "display_name": "Python 3",
   "language": "python",
   "name": "python3"
  },
  "language_info": {
   "codemirror_mode": {
    "name": "ipython",
    "version": 3
   },
   "file_extension": ".py",
   "mimetype": "text/x-python",
   "name": "python",
   "nbconvert_exporter": "python",
   "pygments_lexer": "ipython3",
   "version": "3.12.6"
  }
 },
 "nbformat": 4,
 "nbformat_minor": 2
}
